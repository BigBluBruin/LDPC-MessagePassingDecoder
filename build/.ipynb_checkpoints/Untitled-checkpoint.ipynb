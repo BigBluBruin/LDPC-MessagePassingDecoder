{
 "cells": [
  {
   "cell_type": "markdown",
   "metadata": {},
   "source": "---------- Input Varible Node LLR Information ----------\n\n|   101     |   154     |   215     |   297     |   302     |   807     |   879     |   923     |   928     |   933     |   982     |   987     |   1047     |   1062     |   1153     |   1271     |\n|:----:|:----:|:----:|:----:|:----:|:----:|:----:|:----:|:----:|:----:|:----:|:----:|:----:|:----:|:----:|:----:|\n| -3.17807  | -4.25442  | -2.92122  | 0.156409  | 1.4802  | -3.08367  | 1.65388  | 2.35207  | 3.39321  | -2.32131  | 1.61873  | -0.8863  | -5.57003  | 1.57085  | -1.10158  | 1.49127  |\n"
  },
  {
   "cell_type": "code",
   "execution_count": null,
   "metadata": {},
   "outputs": [],
   "source": ""
  },
  {
   "cell_type": "code",
   "execution_count": null,
   "metadata": {},
   "outputs": [],
   "source": ""
  }
 ],
 "metadata": {
  "kernelspec": {
   "display_name": "Python 2",
   "language": "python",
   "name": "python2"
  },
  "language_info": {
   "codemirror_mode": {
    "name": "ipython",
    "version": 2
   },
   "file_extension": ".py",
   "mimetype": "text/x-python",
   "name": "python",
   "nbconvert_exporter": "python",
   "pygments_lexer": "ipython2",
   "version": "2.7.17"
  }
 },
 "nbformat": 4,
 "nbformat_minor": 4
}
